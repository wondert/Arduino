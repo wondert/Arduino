{
 "cells": [
  {
   "cell_type": "code",
   "execution_count": 1,
   "metadata": {
    "collapsed": true
   },
   "outputs": [],
   "source": [
    "import RTTLib as rt"
   ]
  },
  {
   "cell_type": "code",
   "execution_count": 2,
   "metadata": {
    "collapsed": true
   },
   "outputs": [],
   "source": [
    "zelda_gerudovalley = r'16c#,16f#,16g#,8a,16p,16c#,16f#,16g#,a,8p,16d,16f#,16g#,8a,16p,16d,16f#,16g#,a,8p,16b4,16e,16f#,8g#,16p,16b4,16e,16f#,g#,8p,16f#,16g#,16f#,2f,8p,16c#,16f#,16g#,8a,16p,16c#,16f#,16g#,a,8p,16d,16f#,16g#,8a,16p,16d,16f#,16g#,a,8p,16b4,16e,16f#,8g#,16p,16b4,16e,16f#,g#,8p,16a,16b,16a,2g#'"
   ]
  },
  {
   "cell_type": "code",
   "execution_count": 3,
   "metadata": {
    "collapsed": true
   },
   "outputs": [],
   "source": [
    "zelda_lostwoods = r'8f6,8a6,b6,8f6,8a6,b6,8f6,8a6,8b6,8e7,d7,8b6,8c7,8b6,8g6,2e6,8d6,8e6,8g6,2e6,8f6,8a6,b6,8f6,8a6,b6,8f6,8a6,8b6,8e7,d7,8b6,8c7,8e7,8b6,2g6,8b6,8g6,8d6,2e6'"
   ]
  },
  {
   "cell_type": "code",
   "execution_count": 4,
   "metadata": {
    "collapsed": true
   },
   "outputs": [],
   "source": [
    "zelda_songofstorms = r'8d6,8f6,d7,p,8d6,8f6,d7,p,e7,8p,8f7,8e7,8f7,8e7,8c7,a6,8p,a6,d6,8f6,8g6,2a6,8p,a6,d6,8f6,8g6,2e6,8p,8d6,8f6,d7,p,8d6,8f6,d7,p,e7,8p,8f7,8e7,8f7,8e7,8c7,a6,8p,a6,d6,8f6,8g6,a6,8p,a6,1d6'"
   ]
  },
  {
   "cell_type": "code",
   "execution_count": 5,
   "metadata": {
    "collapsed": true
   },
   "outputs": [],
   "source": [
    "zelda_lullabyocarina = r'b,16p,8d6,32p,a,16p,16g,32p,16a,32p,b,16p,8d6,32p,2a,16p,b,16p,8d6,32p,a6,16p,8g6,32p,d6,16p,16c6,32p,16b,32p,2a,16p,b,16p,8d6,32p,a,16p,16g,32p,16a,32p,b,16p,8d6,32p,2a,16p,b,16p,8d6,32p,a6,16p,8g6,16p,2d7'"
   ]
  },
  {
   "cell_type": "code",
   "execution_count": 6,
   "metadata": {
    "collapsed": true
   },
   "outputs": [],
   "source": [
    "gerudo = rt.RTTL(zelda_gerudovalley, 4, 5)\n",
    "lostwoods = rt.RTTL(zelda_lostwoods, 4, 5)\n",
    "songofstorms = rt.RTTL(zelda_songofstorms, 4, 5)\n",
    "ocarinalullaby = rt.RTTL(zelda_lullabyocarina, 4, 5)"
   ]
  },
  {
   "cell_type": "code",
   "execution_count": 8,
   "metadata": {
    "collapsed": false
   },
   "outputs": [
    {
     "name": "stdout",
     "output_type": "stream",
     "text": [
      "16c#,16f#,16g#,8a,16p,16c#,16f#,16g#,a,8p,16d,16f#,16g#,8a,16p,16d,16f#,16g#,a,8p,16b4,16e,16f#,8g#,16p,16b4,16e,16f#,g#,8p,16f#,16g#,16f#,2f,8p,16c#,16f#,16g#,8a,16p,16c#,16f#,16g#,a,8p,16d,16f#,16g#,8a,16p,16d,16f#,16g#,a,8p,16b4,16e,16f#,8g#,16p,16b4,16e,16f#,g#,8p,16a,16b,16a,2g#\n"
     ]
    }
   ],
   "source": [
    "print(gerudo)"
   ]
  },
  {
   "cell_type": "code",
   "execution_count": 9,
   "metadata": {
    "collapsed": false
   },
   "outputs": [
    {
     "data": {
      "text/plain": [
       "16c#,16f#,16g#,8a,16p,16c#,16f#,16g#,a,8p,16d,16f#,16g#,8a,16p,16d,16f#,16g#,a,8p,16b4,16e,16f#,8g#,16p,16b4,16e,16f#,g#,8p,16f#,16g#,16f#,2f,8p,16c#,16f#,16g#,8a,16p,16c#,16f#,16g#,a,8p,16d,16f#,16g#,8a,16p,16d,16f#,16g#,a,8p,16b4,16e,16f#,8g#,16p,16b4,16e,16f#,g#,8p,16a,16b,16a,2g#"
      ]
     },
     "execution_count": 9,
     "metadata": {},
     "output_type": "execute_result"
    }
   ],
   "source": [
    "gerudo"
   ]
  },
  {
   "cell_type": "code",
   "execution_count": 11,
   "metadata": {
    "collapsed": false
   },
   "outputs": [
    {
     "name": "stdout",
     "output_type": "stream",
     "text": [
      "The number of notes in this melody is:  69\n"
     ]
    }
   ],
   "source": [
    "gerudo_song = gerudo.RTTL2Tone()"
   ]
  },
  {
   "cell_type": "code",
   "execution_count": 12,
   "metadata": {
    "collapsed": false
   },
   "outputs": [
    {
     "name": "stdout",
     "output_type": "stream",
     "text": [
      "The number of notes in this melody is:  40\n"
     ]
    }
   ],
   "source": [
    "lostwoods_song = lostwoods.RTTL2Tone()"
   ]
  },
  {
   "cell_type": "code",
   "execution_count": 13,
   "metadata": {
    "collapsed": false
   },
   "outputs": [
    {
     "name": "stdout",
     "output_type": "stream",
     "text": [
      "The number of notes in this melody is:  54\n"
     ]
    }
   ],
   "source": [
    "songofstorms_song = songofstorms.RTTL2Tone()"
   ]
  },
  {
   "cell_type": "code",
   "execution_count": 14,
   "metadata": {
    "collapsed": false
   },
   "outputs": [
    {
     "name": "stdout",
     "output_type": "stream",
     "text": [
      "The number of notes in this melody is:  57\n"
     ]
    }
   ],
   "source": [
    "ocarina_song = ocarinalullaby.RTTL2Tone()"
   ]
  },
  {
   "cell_type": "code",
   "execution_count": 15,
   "metadata": {
    "collapsed": false
   },
   "outputs": [
    {
     "data": {
      "text/plain": [
       "'NOTE_B5, NOTE_PAUSE, NOTE_D6, NOTE_PAUSE, NOTE_A5, NOTE_PAUSE, NOTE_G5, NOTE_PAUSE, NOTE_A5, NOTE_PAUSE, NOTE_B5, NOTE_PAUSE, NOTE_D6, NOTE_PAUSE, NOTE_A5, NOTE_PAUSE, NOTE_B5, NOTE_PAUSE, NOTE_D6, NOTE_PAUSE, NOTE_A6, NOTE_PAUSE, NOTE_G6, NOTE_PAUSE, NOTE_D6, NOTE_PAUSE, NOTE_C6, NOTE_PAUSE, NOTE_B5, NOTE_PAUSE, NOTE_A5, NOTE_PAUSE, NOTE_B5, NOTE_PAUSE, NOTE_D6, NOTE_PAUSE, NOTE_A5, NOTE_PAUSE, NOTE_G5, NOTE_PAUSE, NOTE_A5, NOTE_PAUSE, NOTE_B5, NOTE_PAUSE, NOTE_D6, NOTE_PAUSE, NOTE_A5, NOTE_PAUSE, NOTE_B5, NOTE_PAUSE, NOTE_D6, NOTE_PAUSE, NOTE_A6, NOTE_PAUSE, NOTE_G6, NOTE_PAUSE, NOTE_D7'"
      ]
     },
     "execution_count": 15,
     "metadata": {},
     "output_type": "execute_result"
    }
   ],
   "source": [
    "ocarina_song[0]"
   ]
  },
  {
   "cell_type": "code",
   "execution_count": 16,
   "metadata": {
    "collapsed": false
   },
   "outputs": [
    {
     "data": {
      "text/plain": [
       "'250, 250, 125, 250, 250, 250, 62, 250, 62, 250, 250, 250, 125, 250, 500, 250, 250, 250, 125, 250, 250, 250, 125, 250, 250, 250, 62, 250, 62, 250, 500, 250, 250, 250, 125, 250, 250, 250, 62, 250, 62, 250, 250, 250, 125, 250, 500, 250, 250, 250, 125, 250, 250, 250, 125, 250, 500'"
      ]
     },
     "execution_count": 16,
     "metadata": {},
     "output_type": "execute_result"
    }
   ],
   "source": [
    "ocarina_song[1]"
   ]
  },
  {
   "cell_type": "code",
   "execution_count": 18,
   "metadata": {
    "collapsed": false
   },
   "outputs": [
    {
     "data": {
      "text/plain": [
       "'NOTE_CS5, NOTE_FS5, NOTE_GS5, NOTE_A5, NOTE_PAUSE, NOTE_CS5, NOTE_FS5, NOTE_GS5, NOTE_A5, NOTE_PAUSE, NOTE_D5, NOTE_FS5, NOTE_GS5, NOTE_A5, NOTE_PAUSE, NOTE_D5, NOTE_FS5, NOTE_GS5, NOTE_A5, NOTE_PAUSE, NOTE_B4, NOTE_E5, NOTE_FS5, NOTE_GS5, NOTE_PAUSE, NOTE_B4, NOTE_E5, NOTE_FS5, NOTE_GS5, NOTE_PAUSE, NOTE_FS5, NOTE_GS5, NOTE_FS5, NOTE_F5, NOTE_PAUSE, NOTE_CS5, NOTE_FS5, NOTE_GS5, NOTE_A5, NOTE_PAUSE, NOTE_CS5, NOTE_FS5, NOTE_GS5, NOTE_A5, NOTE_PAUSE, NOTE_D5, NOTE_FS5, NOTE_GS5, NOTE_A5, NOTE_PAUSE, NOTE_D5, NOTE_FS5, NOTE_GS5, NOTE_A5, NOTE_PAUSE, NOTE_B4, NOTE_E5, NOTE_FS5, NOTE_GS5, NOTE_PAUSE, NOTE_B4, NOTE_E5, NOTE_FS5, NOTE_GS5, NOTE_PAUSE, NOTE_A5, NOTE_B5, NOTE_A5, NOTE_GS5'"
      ]
     },
     "execution_count": 18,
     "metadata": {},
     "output_type": "execute_result"
    }
   ],
   "source": [
    "gerudo_song[0]"
   ]
  },
  {
   "cell_type": "code",
   "execution_count": 19,
   "metadata": {
    "collapsed": false
   },
   "outputs": [
    {
     "data": {
      "text/plain": [
       "'62, 62, 62, 125, 250, 62, 62, 62, 250, 125, 62, 62, 62, 125, 250, 62, 62, 62, 250, 125, 62, 62, 62, 125, 250, 62, 62, 62, 250, 125, 62, 62, 62, 500, 125, 62, 62, 62, 125, 250, 62, 62, 62, 250, 125, 62, 62, 62, 125, 250, 62, 62, 62, 250, 125, 62, 62, 62, 125, 250, 62, 62, 62, 250, 125, 62, 62, 62, 500'"
      ]
     },
     "execution_count": 19,
     "metadata": {},
     "output_type": "execute_result"
    }
   ],
   "source": [
    "gerudo_song[1]"
   ]
  },
  {
   "cell_type": "code",
   "execution_count": 20,
   "metadata": {
    "collapsed": false
   },
   "outputs": [
    {
     "data": {
      "text/plain": [
       "'NOTE_F6, NOTE_A6, NOTE_B6, NOTE_F6, NOTE_A6, NOTE_B6, NOTE_F6, NOTE_A6, NOTE_B6, NOTE_E7, NOTE_D7, NOTE_B6, NOTE_C7, NOTE_B6, NOTE_G6, NOTE_E6, NOTE_D6, NOTE_E6, NOTE_G6, NOTE_E6, NOTE_F6, NOTE_A6, NOTE_B6, NOTE_F6, NOTE_A6, NOTE_B6, NOTE_F6, NOTE_A6, NOTE_B6, NOTE_E7, NOTE_D7, NOTE_B6, NOTE_C7, NOTE_E7, NOTE_B6, NOTE_G6, NOTE_B6, NOTE_G6, NOTE_D6, NOTE_E6'"
      ]
     },
     "execution_count": 20,
     "metadata": {},
     "output_type": "execute_result"
    }
   ],
   "source": [
    "lostwoods_song[0]"
   ]
  },
  {
   "cell_type": "code",
   "execution_count": 21,
   "metadata": {
    "collapsed": false
   },
   "outputs": [
    {
     "data": {
      "text/plain": [
       "'125, 125, 250, 125, 125, 250, 125, 125, 125, 125, 250, 125, 125, 125, 125, 500, 125, 125, 125, 500, 125, 125, 250, 125, 125, 250, 125, 125, 125, 125, 250, 125, 125, 125, 125, 500, 125, 125, 125, 500'"
      ]
     },
     "execution_count": 21,
     "metadata": {},
     "output_type": "execute_result"
    }
   ],
   "source": [
    "lostwoods_song[1]"
   ]
  },
  {
   "cell_type": "code",
   "execution_count": 22,
   "metadata": {
    "collapsed": false
   },
   "outputs": [
    {
     "data": {
      "text/plain": [
       "'NOTE_D6, NOTE_F6, NOTE_D7, NOTE_PAUSE, NOTE_D6, NOTE_F6, NOTE_D7, NOTE_PAUSE, NOTE_E7, NOTE_PAUSE, NOTE_F7, NOTE_E7, NOTE_F7, NOTE_E7, NOTE_C7, NOTE_A6, NOTE_PAUSE, NOTE_A6, NOTE_D6, NOTE_F6, NOTE_G6, NOTE_A6, NOTE_PAUSE, NOTE_A6, NOTE_D6, NOTE_F6, NOTE_G6, NOTE_E6, NOTE_PAUSE, NOTE_D6, NOTE_F6, NOTE_D7, NOTE_PAUSE, NOTE_D6, NOTE_F6, NOTE_D7, NOTE_PAUSE, NOTE_E7, NOTE_PAUSE, NOTE_F7, NOTE_E7, NOTE_F7, NOTE_E7, NOTE_C7, NOTE_A6, NOTE_PAUSE, NOTE_A6, NOTE_D6, NOTE_F6, NOTE_G6, NOTE_A6, NOTE_PAUSE, NOTE_A6, NOTE_D6'"
      ]
     },
     "execution_count": 22,
     "metadata": {},
     "output_type": "execute_result"
    }
   ],
   "source": [
    "songofstorms_song[0]"
   ]
  },
  {
   "cell_type": "code",
   "execution_count": 23,
   "metadata": {
    "collapsed": false
   },
   "outputs": [
    {
     "data": {
      "text/plain": [
       "'125, 125, 250, 250, 125, 125, 250, 250, 250, 125, 125, 125, 125, 125, 125, 250, 125, 250, 250, 125, 125, 500, 125, 250, 250, 125, 125, 500, 125, 125, 125, 250, 250, 125, 125, 250, 250, 250, 125, 125, 125, 125, 125, 125, 250, 125, 250, 250, 125, 125, 250, 125, 250, 250'"
      ]
     },
     "execution_count": 23,
     "metadata": {},
     "output_type": "execute_result"
    }
   ],
   "source": [
    "songofstorms_song[1]"
   ]
  },
  {
   "cell_type": "code",
   "execution_count": null,
   "metadata": {
    "collapsed": true
   },
   "outputs": [],
   "source": []
  }
 ],
 "metadata": {
  "kernelspec": {
   "display_name": "Python 3",
   "language": "python",
   "name": "python3"
  },
  "language_info": {
   "codemirror_mode": {
    "name": "ipython",
    "version": 3
   },
   "file_extension": ".py",
   "mimetype": "text/x-python",
   "name": "python",
   "nbconvert_exporter": "python",
   "pygments_lexer": "ipython3",
   "version": "3.6.0"
  }
 },
 "nbformat": 4,
 "nbformat_minor": 2
}
