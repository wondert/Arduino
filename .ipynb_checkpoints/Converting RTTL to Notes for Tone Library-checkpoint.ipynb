{
 "cells": [
  {
   "cell_type": "markdown",
   "metadata": {},
   "source": [
    "# *I. Create a function to convert RTTL to Notes for the Arduion tone library*"
   ]
  },
  {
   "cell_type": "code",
   "execution_count": 320,
   "metadata": {
    "collapsed": true
   },
   "outputs": [],
   "source": [
    "zelda_intro = r'a#,f.,8a#,16a#,16c6,16d6,16d#6,2f6,8p,8f6,16f.6,16f#6,16g#.6,2a#.6,16a#.6,16g#6,16f#.6,8g#.6,16f#.6,2f6,f6,8d#6,16d#6,16f6,2f#6,8f6,8d#6,8c#6,16c#6,16d#6,2f6,8d#6,8c#6,8c6,16c6,16d6,2e6,g6,8f6,16f,16f,8f,16f,16f,8f,16f,16f,8f,8f,a#,f.,8a#,16a#,16c6,16d6,16d#6,2f6,8p,8f6,16f.6,16f#6,16g#.6,2a#.6,c#7,c7,2a6,f6,2f#.6,a#6,a6,2f6,f6,2f#.6,a#6,a6,2f6,d6,2d#.6,f#6,f6,2c#6,a#,c6,16d6,2e6,g6,8f6,16f,16f,8f,16f,16f,8f,16f,16f,8f,8f'"
   ]
  },
  {
   "cell_type": "markdown",
   "metadata": {},
   "source": [
    "Notes Need to Look Like This  \n",
    "NOTE_B0  \n",
    "NOTE_C1  \n",
    "NOTE_CS1  \n",
    "NOTE_D1  \n",
    "NOTE_DS1  "
   ]
  },
  {
   "cell_type": "code",
   "execution_count": 321,
   "metadata": {
    "collapsed": false
   },
   "outputs": [
    {
     "name": "stdout",
     "output_type": "stream",
     "text": [
      "['a#', 'f.', '8a#', '16a#', '16c6', '16d6', '16d#6', '2f6', '8p', '8f6', '16f.6', '16f#6', '16g#.6', '2a#.6', '16a#.6', '16g#6', '16f#.6', '8g#.6', '16f#.6', '2f6', 'f6', '8d#6', '16d#6', '16f6', '2f#6', '8f6', '8d#6', '8c#6', '16c#6', '16d#6', '2f6', '8d#6', '8c#6', '8c6', '16c6', '16d6', '2e6', 'g6', '8f6', '16f', '16f', '8f', '16f', '16f', '8f', '16f', '16f', '8f', '8f', 'a#', 'f.', '8a#', '16a#', '16c6', '16d6', '16d#6', '2f6', '8p', '8f6', '16f.6', '16f#6', '16g#.6', '2a#.6', 'c#7', 'c7', '2a6', 'f6', '2f#.6', 'a#6', 'a6', '2f6', 'f6', '2f#.6', 'a#6', 'a6', '2f6', 'd6', '2d#.6', 'f#6', 'f6', '2c#6', 'a#', 'c6', '16d6', '2e6', 'g6', '8f6', '16f', '16f', '8f', '16f', '16f', '8f', '16f', '16f', '8f', '8f']\n"
     ]
    }
   ],
   "source": [
    "# Create test list to unit test final function and subfunctions\n",
    "notes = zelda_intro.split(sep=\",\")\n",
    "note_list = [note for note in notes]\n",
    "print(note_list)"
   ]
  },
  {
   "cell_type": "code",
   "execution_count": 322,
   "metadata": {
    "collapsed": false
   },
   "outputs": [
    {
     "name": "stdout",
     "output_type": "stream",
     "text": [
      "['a#', 'f.', '8a#', '16a#', '16c6', '16d6', '16d#6', '2f6', '8p']\n"
     ]
    }
   ],
   "source": [
    "# Create shorter list for quick prototyping\n",
    "test_notes = note_list[:9]\n",
    "print(test_notes)"
   ]
  },
  {
   "cell_type": "code",
   "execution_count": 323,
   "metadata": {
    "collapsed": true
   },
   "outputs": [],
   "source": [
    "def duration_function(duration_default, note):\n",
    "    # extract correct duration -- func(int, string) -> int\n",
    "    \n",
    "    # create list to compare standard durations\n",
    "    note_durations = ['2', '4', '8', '16', '32', '64']\n",
    "    \n",
    "    # extract duration and convert to type int\n",
    "    if note[:2] in note_durations:\n",
    "        correct_duration = note[:2]\n",
    "        correct_duration = int(correct_duration)\n",
    "    \n",
    "    elif note[0] in note_durations:\n",
    "        correct_duration = note[0]\n",
    "        correct_duration = int(correct_duration)\n",
    "    \n",
    "    else:\n",
    "        correct_duration = int(duration_default)\n",
    "           \n",
    "    # return int with correct duration in milliseconds. can change back to normal scale by returning only correct_duration\n",
    "    return int(1000/correct_duration)"
   ]
  },
  {
   "cell_type": "code",
   "execution_count": 324,
   "metadata": {
    "collapsed": false
   },
   "outputs": [
    {
     "name": "stdout",
     "output_type": "stream",
     "text": [
      "a# 250 4\n",
      "f. 250 4\n",
      "8a# 125 8\n",
      "16a# 62 16\n",
      "16c6 62 16\n",
      "16d6 62 16\n",
      "16d#6 62 16\n",
      "2f6 500 2\n",
      "8p 125 8\n"
     ]
    }
   ],
   "source": [
    "# extract correct duration -- func(int, string) -> int\n",
    "test_default_duration = 4\n",
    "for i in range(len(test_notes)):\n",
    "    print(test_notes[i], duration_function(test_default_duration, test_notes[i]), int(1000/duration_function(test_default_duration, test_notes[i])))"
   ]
  },
  {
   "cell_type": "code",
   "execution_count": 325,
   "metadata": {
    "collapsed": true
   },
   "outputs": [],
   "source": [
    "def scale_function(note):  \n",
    "    # extract correct note scale -- func(string) -> string\n",
    "    \n",
    "    # create list to compare scales\n",
    "    note_scale = ['a', 'b', 'c', 'd', 'e', 'f', 'g']   \n",
    "    \n",
    "    # extract scale\n",
    "    if note[0] in note_scale:\n",
    "        correct_scale = note[0]\n",
    "    \n",
    "    elif note[1] in note_scale:\n",
    "        correct_scale = note[1]\n",
    "    \n",
    "    else:\n",
    "        correct_scale = note[2]\n",
    "    \n",
    "    # return string with correct scale as upper case\n",
    "    return correct_scale.upper()"
   ]
  },
  {
   "cell_type": "code",
   "execution_count": 326,
   "metadata": {
    "collapsed": false
   },
   "outputs": [
    {
     "name": "stdout",
     "output_type": "stream",
     "text": [
      "a# A\n",
      "f. F\n",
      "8a# A\n",
      "16a# A\n",
      "16c6 C\n",
      "16d6 D\n",
      "16d#6 D\n",
      "2f6 F\n"
     ]
    }
   ],
   "source": [
    "# extract correct note scale -- func(string) -> string\n",
    "for i in range(len(test_notes)-1):\n",
    "    print(test_notes[i], scale_function(test_notes[i]))"
   ]
  },
  {
   "cell_type": "code",
   "execution_count": 327,
   "metadata": {
    "collapsed": true
   },
   "outputs": [],
   "source": [
    "def octave_function(octave_default, note):\n",
    "    # extract octave from note -- func (int, string) -> string\n",
    "\n",
    "    # create empty string to collect potential octave elements\n",
    "    octave_region = ''\n",
    "    \n",
    "    # create list to compare scales and octaves\n",
    "    note_scale = ['a', 'b', 'c', 'd', 'e', 'f', 'g']\n",
    "    octave_scale = ['0', '1', '2', '3', '4', '5', '6', '7', '8']\n",
    "    \n",
    "    # return default octave if single note ('e', 'f.')\n",
    "    if len(note) == 1:\n",
    "        return str(octave_default)\n",
    "    \n",
    "    # return correct octave if two element note ('6b', 'a#', 'a7',)\n",
    "    if len(note) == 2:\n",
    "        if note[1] in octave_scale:\n",
    "            return note[1]\n",
    "        else:\n",
    "            return str(octave_default)\n",
    "       \n",
    "    # extract note elements past scale ('a#.', 8a#', '2f6, 8f6, 16f.6, 16f#6, 16g#.6')\n",
    "    for i in note:\n",
    "        if i in note_scale:            \n",
    "            past_scale = note.index(i) + 1\n",
    "            octave_region = note[past_scale:]\n",
    "            break\n",
    "        else:\n",
    "            pass\n",
    "    \n",
    "    # if octave scale present, return its value\n",
    "    for j in octave_region:\n",
    "        if j in octave_scale:\n",
    "            return j\n",
    "        else:\n",
    "            pass\n",
    "        \n",
    "    # return string with default octave\n",
    "    return str(octave_default)"
   ]
  },
  {
   "cell_type": "code",
   "execution_count": 328,
   "metadata": {
    "collapsed": false
   },
   "outputs": [
    {
     "name": "stdout",
     "output_type": "stream",
     "text": [
      "a# 5\n",
      "f. 5\n",
      "8a# 5\n",
      "16a# 5\n",
      "16c6 6\n",
      "16d6 6\n",
      "16d#6 6\n",
      "2f6 6\n",
      "8p 5\n"
     ]
    }
   ],
   "source": [
    "# extract octave from note -- func (int, string) -> string\n",
    "test_default_octave = 5\n",
    "for i in range(len(test_notes)):\n",
    "    print(test_notes[i], octave_function(test_default_octave, test_notes[i]))"
   ]
  },
  {
   "cell_type": "code",
   "execution_count": 329,
   "metadata": {
    "collapsed": false
   },
   "outputs": [],
   "source": [
    "def RTTLconv(duration, octave, melody):\n",
    "    ''' \n",
    "    Convert RTTL into tones for tone library on Arduino\n",
    "    RTTLconv(int, int, raw string)\n",
    "    '''\n",
    "    \n",
    "    # split raw string into list of invididual notes\n",
    "    notes = melody.split(sep=\",\")\n",
    "\n",
    "    # create empty list to hold tone strings and duration\n",
    "    tones = []\n",
    "    durations = []\n",
    "    \n",
    "    # create blank string for each note. read each position and add in correct part (build new string)\n",
    "    for note in notes:\n",
    "        # set dotted note flag to default False.\n",
    "        dotted_note = False\n",
    "        \n",
    "        # check if a pause (p) note is present. \n",
    "        if 'p' in note:\n",
    "            # set no_pause flag\n",
    "            no_pause = False\n",
    "            \n",
    "            # set scale and duration\n",
    "            correct_scale = 'PAUSE'\n",
    "            sharp = '' \n",
    "            correct_octave = ''\n",
    "            correct_duration = duration_function(duration, note[0])\n",
    "            \n",
    "            # Combine note elements into pause tone string (NOTE_PAUSE). \n",
    "            tone_string = 'NOTE_' + correct_scale + sharp + correct_octave\n",
    "            tones.append(tone_string)\n",
    "            durations.append(correct_duration)\n",
    "        \n",
    "        else:\n",
    "            # set no_pause flag\n",
    "            no_pause = True\n",
    "            \n",
    "            # extract correct duration -- func(int, string) -> int\n",
    "            correct_duration = duration_function(duration, note)\n",
    "\n",
    "            # extract correct note scale -- func(string) -> string\n",
    "            correct_scale = scale_function(note)\n",
    "\n",
    "            # extract octave from note -- func (int, string) -> string\n",
    "            correct_octave = octave_function(octave, note)\n",
    "\n",
    "            # extract sharp if present\n",
    "            sharp = ''\n",
    "            for i in note:\n",
    "                if i == '#':\n",
    "                    sharp = 'S'\n",
    "                    break\n",
    "                else:\n",
    "                    pass\n",
    "\n",
    "\n",
    "            # detect dotted note. \n",
    "            for i in note:\n",
    "                if i == '.':\n",
    "                    # since dot is before octave (i.e. 16g#.6), the second note is half duration. after note is 1.5x duration.\n",
    "                    second_duration = (correct_duration*0.5)\n",
    "                    second_duration = int(second_duration)\n",
    "                    dotted_note = True\n",
    "                    break\n",
    "                else:\n",
    "                    pass\n",
    "        \n",
    "            # Combine note elements into tone string (NOTE_CS5). Ensure dotted note comes after full note\n",
    "            if no_pause and dotted_note:\n",
    "                tone_string = 'NOTE_' + correct_scale + sharp + correct_octave\n",
    "                second_tone = 'NOTE_' + correct_scale + sharp + correct_octave\n",
    "                tones.append(tone_string)\n",
    "                tones.append(second_tone)\n",
    "                durations.append(correct_duration)\n",
    "                durations.append(second_duration)\n",
    "            else:\n",
    "                tone_string = 'NOTE_' + correct_scale + sharp + correct_octave\n",
    "                tones.append(tone_string)\n",
    "                durations.append(correct_duration)\n",
    "    \n",
    "    # print out length of completted notes. original input did not include dotted notes!!!\n",
    "    print('The number of notes in this melody is: ', len(tones))\n",
    "    \n",
    "    # ensure tones are returned as a properly formatted string\n",
    "    separator = ', '\n",
    "    tones_astuple = tuple(tones)\n",
    "    formatted_tones = ''\n",
    "    for i in tones_astuple:\n",
    "        formatted_tones += (i + separator)\n",
    "    \n",
    "    # ensure durations are returned as a properly formatted string    \n",
    "    durations_astuple = tuple(durations)\n",
    "    formatted_durations = ''\n",
    "    for j in durations_astuple:\n",
    "        formatted_durations += (str(j) + separator)    \n",
    "        \n",
    "    return [formatted_tones[:-2], formatted_durations[:-2]]"
   ]
  },
  {
   "cell_type": "code",
   "execution_count": 330,
   "metadata": {
    "collapsed": true
   },
   "outputs": [],
   "source": [
    "# Test main function!!!"
   ]
  },
  {
   "cell_type": "code",
   "execution_count": 331,
   "metadata": {
    "collapsed": false
   },
   "outputs": [
    {
     "name": "stdout",
     "output_type": "stream",
     "text": [
      "The number of notes in this melody is:  112\n"
     ]
    }
   ],
   "source": [
    "final_test = RTTLconv(4, 5, zelda_intro)"
   ]
  },
  {
   "cell_type": "code",
   "execution_count": 332,
   "metadata": {
    "collapsed": false
   },
   "outputs": [
    {
     "data": {
      "text/plain": [
       "'NOTE_AS5, NOTE_F5, NOTE_F5, NOTE_AS5, NOTE_AS5, NOTE_C6, NOTE_D6, NOTE_DS6, NOTE_F6, NOTE_PAUSE, NOTE_F6, NOTE_F6, NOTE_F6, NOTE_FS6, NOTE_GS6, NOTE_GS6, NOTE_AS6, NOTE_AS6, NOTE_AS6, NOTE_AS6, NOTE_GS6, NOTE_FS6, NOTE_FS6, NOTE_GS6, NOTE_GS6, NOTE_FS6, NOTE_FS6, NOTE_F6, NOTE_F6, NOTE_DS6, NOTE_DS6, NOTE_F6, NOTE_FS6, NOTE_F6, NOTE_DS6, NOTE_CS6, NOTE_CS6, NOTE_DS6, NOTE_F6, NOTE_DS6, NOTE_CS6, NOTE_C6, NOTE_C6, NOTE_D6, NOTE_E6, NOTE_G6, NOTE_F6, NOTE_F5, NOTE_F5, NOTE_F5, NOTE_F5, NOTE_F5, NOTE_F5, NOTE_F5, NOTE_F5, NOTE_F5, NOTE_F5, NOTE_AS5, NOTE_F5, NOTE_F5, NOTE_AS5, NOTE_AS5, NOTE_C6, NOTE_D6, NOTE_DS6, NOTE_F6, NOTE_PAUSE, NOTE_F6, NOTE_F6, NOTE_F6, NOTE_FS6, NOTE_GS6, NOTE_GS6, NOTE_AS6, NOTE_AS6, NOTE_CS7, NOTE_C7, NOTE_A6, NOTE_F6, NOTE_FS6, NOTE_FS6, NOTE_AS6, NOTE_A6, NOTE_F6, NOTE_F6, NOTE_FS6, NOTE_FS6, NOTE_AS6, NOTE_A6, NOTE_F6, NOTE_D6, NOTE_DS6, NOTE_DS6, NOTE_FS6, NOTE_F6, NOTE_CS6, NOTE_AS5, NOTE_C6, NOTE_D6, NOTE_E6, NOTE_G6, NOTE_F6, NOTE_F5, NOTE_F5, NOTE_F5, NOTE_F5, NOTE_F5, NOTE_F5, NOTE_F5, NOTE_F5, NOTE_F5, NOTE_F5'"
      ]
     },
     "execution_count": 332,
     "metadata": {},
     "output_type": "execute_result"
    }
   ],
   "source": [
    "final_test[0]"
   ]
  },
  {
   "cell_type": "code",
   "execution_count": 333,
   "metadata": {
    "collapsed": false
   },
   "outputs": [
    {
     "data": {
      "text/plain": [
       "'250, 250, 125, 125, 62, 62, 62, 62, 500, 125, 125, 62, 31, 62, 62, 31, 500, 250, 62, 31, 62, 62, 31, 125, 62, 62, 31, 500, 250, 125, 62, 62, 500, 125, 125, 125, 62, 62, 500, 125, 125, 125, 62, 62, 500, 250, 125, 62, 62, 125, 62, 62, 125, 62, 62, 125, 125, 250, 250, 125, 125, 62, 62, 62, 62, 500, 125, 125, 62, 31, 62, 62, 31, 500, 250, 250, 250, 500, 250, 500, 250, 250, 250, 500, 250, 500, 250, 250, 250, 500, 250, 500, 250, 250, 250, 500, 250, 250, 62, 500, 250, 125, 62, 62, 125, 62, 62, 125, 62, 62, 125, 125'"
      ]
     },
     "execution_count": 333,
     "metadata": {},
     "output_type": "execute_result"
    }
   ],
   "source": [
    "final_test[1]"
   ]
  },
  {
   "cell_type": "code",
   "execution_count": 334,
   "metadata": {
    "collapsed": false
   },
   "outputs": [
    {
     "data": {
      "text/plain": [
       "'8f6'"
      ]
     },
     "execution_count": 334,
     "metadata": {},
     "output_type": "execute_result"
    }
   ],
   "source": [
    "notes[9]"
   ]
  },
  {
   "cell_type": "code",
   "execution_count": 335,
   "metadata": {
    "collapsed": false
   },
   "outputs": [
    {
     "name": "stdout",
     "output_type": "stream",
     "text": [
      "a# 250 4\n",
      "f. 250 4\n",
      "8a# 125 8\n",
      "16a# 62 16\n",
      "16c6 62 16\n",
      "16d6 62 16\n",
      "16d#6 62 16\n",
      "2f6 500 2\n",
      "8p 125 8\n",
      "8f6 125 8\n",
      "16f.6 62 16\n",
      "16f#6 62 16\n",
      "16g#.6 62 16\n",
      "2a#.6 500 2\n",
      "16a#.6 62 16\n",
      "16g#6 62 16\n",
      "16f#.6 62 16\n",
      "8g#.6 125 8\n",
      "16f#.6 62 16\n",
      "2f6 500 2\n",
      "f6 250 4\n",
      "8d#6 125 8\n",
      "16d#6 62 16\n",
      "16f6 62 16\n"
     ]
    }
   ],
   "source": [
    "# extract correct duration -- func(int, string) -> int\n",
    "test_default_duration = 4\n",
    "partialnote_list = note_list[0:24]\n",
    "for i in range(len(partialnote_list)):\n",
    "    print(partialnote_list[i], duration_function(test_default_duration, partialnote_list[i]), int(1000/duration_function(test_default_duration, partialnote_list[i])))"
   ]
  },
  {
   "cell_type": "markdown",
   "metadata": {},
   "source": [
    "# *II. Use this section to convert RTTL tones!!!*"
   ]
  },
  {
   "cell_type": "code",
   "execution_count": 360,
   "metadata": {
    "collapsed": true
   },
   "outputs": [],
   "source": [
    "# copy your raw string RTTL here \n",
    "bubble_lib = r'a,4f.,8c,8d,8f,8p,f,8d,8c,8p,8f,8p,8f,8p,4c6,4a.,g,8c,a,4f.,8c,8d,8f,8p,f,8d,8c,8p,8f,8p,8a#,8a,8g,f,8p,4a.,4f.,4c,4a.,f,8g#,8f,8c,8p,4g#.,g,4a.,4f.,4c,4a.,f,8g#,8f,4c,c6'\n",
    "\n",
    "# set duration default here (int)\n",
    "bubble_duration = 4\n",
    "\n",
    "# set octave default here (int)\n",
    "bubble_octave = 5"
   ]
  },
  {
   "cell_type": "code",
   "execution_count": 361,
   "metadata": {
    "collapsed": false
   },
   "outputs": [
    {
     "name": "stdout",
     "output_type": "stream",
     "text": [
      "The number of notes in this melody is:  65\n"
     ]
    }
   ],
   "source": [
    "converted_bubble = RTTLconv(bubble_duration, bubble_octave, bubble_lib)"
   ]
  },
  {
   "cell_type": "code",
   "execution_count": 362,
   "metadata": {
    "collapsed": false
   },
   "outputs": [
    {
     "data": {
      "text/plain": [
       "'NOTE_A5, NOTE_F5, NOTE_F5, NOTE_C5, NOTE_D5, NOTE_F5, NOTE_PAUSE, NOTE_F5, NOTE_D5, NOTE_C5, NOTE_PAUSE, NOTE_F5, NOTE_PAUSE, NOTE_F5, NOTE_PAUSE, NOTE_C6, NOTE_A5, NOTE_A5, NOTE_G5, NOTE_C5, NOTE_A5, NOTE_F5, NOTE_F5, NOTE_C5, NOTE_D5, NOTE_F5, NOTE_PAUSE, NOTE_F5, NOTE_D5, NOTE_C5, NOTE_PAUSE, NOTE_F5, NOTE_PAUSE, NOTE_AS5, NOTE_A5, NOTE_G5, NOTE_F5, NOTE_PAUSE, NOTE_A5, NOTE_A5, NOTE_F5, NOTE_F5, NOTE_C5, NOTE_A5, NOTE_A5, NOTE_F5, NOTE_GS5, NOTE_F5, NOTE_C5, NOTE_PAUSE, NOTE_GS5, NOTE_GS5, NOTE_G5, NOTE_A5, NOTE_A5, NOTE_F5, NOTE_F5, NOTE_C5, NOTE_A5, NOTE_A5, NOTE_F5, NOTE_GS5, NOTE_F5, NOTE_C5, NOTE_C6'"
      ]
     },
     "execution_count": 362,
     "metadata": {},
     "output_type": "execute_result"
    }
   ],
   "source": [
    "# These are your notes\n",
    "converted_bubble[0]"
   ]
  },
  {
   "cell_type": "code",
   "execution_count": 363,
   "metadata": {
    "collapsed": false
   },
   "outputs": [
    {
     "data": {
      "text/plain": [
       "'250, 250, 125, 125, 125, 125, 125, 250, 125, 125, 125, 125, 125, 125, 125, 250, 250, 125, 250, 125, 250, 250, 125, 125, 125, 125, 125, 250, 125, 125, 125, 125, 125, 125, 125, 125, 250, 125, 250, 125, 250, 125, 250, 250, 125, 250, 125, 125, 125, 125, 250, 125, 250, 250, 125, 250, 125, 250, 250, 125, 250, 125, 125, 250, 250'"
      ]
     },
     "execution_count": 363,
     "metadata": {},
     "output_type": "execute_result"
    }
   ],
   "source": [
    "# These are your durations\n",
    "converted_bubble[1]"
   ]
  },
  {
   "cell_type": "code",
   "execution_count": null,
   "metadata": {
    "collapsed": true
   },
   "outputs": [],
   "source": [
    "# If timing is too fast or slow, it is best to first cut each notes duration in half, but leave default duration unchanged\n",
    "# And... consider changing the pause between notes above or below 1.3 (80% good for speed up, 175% good for slow down)"
   ]
  }
 ],
 "metadata": {
  "kernelspec": {
   "display_name": "Python 3",
   "language": "python",
   "name": "python3"
  },
  "language_info": {
   "codemirror_mode": {
    "name": "ipython",
    "version": 3
   },
   "file_extension": ".py",
   "mimetype": "text/x-python",
   "name": "python",
   "nbconvert_exporter": "python",
   "pygments_lexer": "ipython3",
   "version": "3.6.0"
  }
 },
 "nbformat": 4,
 "nbformat_minor": 2
}
